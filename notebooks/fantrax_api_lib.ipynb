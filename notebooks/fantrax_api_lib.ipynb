{
 "cells": [
  {
   "cell_type": "code",
   "execution_count": 1,
   "metadata": {},
   "outputs": [],
   "source": [
    "# Add the libraies path to python\n",
    "import sys\n",
    "import os\n",
    "sys.path.append(os.path.join(os.getcwd(), '..\\\\python\\\\database'))\n",
    "sys.path.append(os.path.join(os.getcwd(), '..\\\\python\\\\plots'))\n",
    "\n",
    "# Library imports\n",
    "import database\n",
    "import performance_plots\n",
    "\n",
    "# Constants to use in this notebook\n",
    "season = \"2024\"\n",
    "\n",
    "# Build the database for the season\n",
    "db = database.database(season)"
   ]
  },
  {
   "cell_type": "code",
   "execution_count": 2,
   "metadata": {},
   "outputs": [
    {
     "name": "stdout",
     "output_type": "stream",
     "text": [
      "Average minimum winning score:  147.70833333333334\n",
      "Average minimum winning player score:  13.428030303030305\n"
     ]
    }
   ],
   "source": [
    "min_winning_scores = list()\n",
    "\n",
    "for gw in range(db.get_number_of_gws()):\n",
    "    gw_scores = db.get_gw_scores(gw)\n",
    "    gw_scores.sort(reverse=True)\n",
    "    min_winner = int(len(db.get_managers()) / 2)\n",
    "    min_winning_scores.append(gw_scores[min_winner-1])\n",
    "\n",
    "avg_winning_score = sum(min_winning_scores) / len(min_winning_scores)\n",
    "print(\"Average minimum winning score: \", avg_winning_score)\n",
    "print(\"Average minimum winning player score: \", avg_winning_score / 11)"
   ]
  },
  {
   "cell_type": "code",
   "execution_count": 3,
   "metadata": {},
   "outputs": [
    {
     "name": "stdout",
     "output_type": "stream",
     "text": [
      "Best-performing Losers: \n",
      "zac 0.16924423694193202 153.0\n",
      "morfin 0.7704304429195254 166.5\n",
      "sean 1.2180930930930927 168.5\n",
      "aj 0.06285102968708195 153.5\n",
      "katabe 0.2500612895317477 166.0\n",
      "ben -0.06564551422319474 156.5\n",
      "matt 0.6774193548387093 180.0\n",
      "tj 0.41053757689221704 166.5\n",
      "rafa 0.2501583280557308 160.0\n",
      "vu 0.3937626205968143 187.0\n",
      "\n",
      "Worst-performing Winners: \n",
      "zac -0.5780182232346245 113.0\n",
      "morfin -0.7373913043478257 107.0\n",
      "sean -0.7214228617106314 102.5\n",
      "aj -1.033269353806782 104.0\n",
      "katabe -0.08106543138390306 121.0\n",
      "ben -0.47723019338739897 126.5\n",
      "matt -0.3639846743295019 122.5\n",
      "tj 0.1623006833712981 126.0\n",
      "rafa -0.7203690560681338 123.0\n",
      "vu 0.10535307517084251 125.0\n"
     ]
    }
   ],
   "source": [
    "manager_best_performing_loss_gw = db.get_manager_best_performing_loss_gws()\n",
    "print(\"Best-performing Losers: \")\n",
    "for manager in manager_best_performing_loss_gw.keys():\n",
    "    gw = manager_best_performing_loss_gw[manager]\n",
    "    print(manager, db.get_z_score(manager, gw), db.get_gw_score(manager, gw))\n",
    "\n",
    "print()    \n",
    "\n",
    "manager_worst_performing_win_gws = db.get_manager_worst_performing_win_gws()\n",
    "print(\"Worst-performing Winners: \")\n",
    "for manager in manager_worst_performing_win_gws.keys():\n",
    "    gw = manager_worst_performing_win_gws[manager]\n",
    "    print(manager, db.get_z_score(manager, gw), db.get_gw_score(manager, gw))"
   ]
  },
  {
   "cell_type": "code",
   "execution_count": 4,
   "metadata": {},
   "outputs": [
    {
     "name": "stdout",
     "output_type": "stream",
     "text": [
      "{'zac': 29, 'morfin': 35, 'sean': 0, 'aj': 1, 'katabe': 3, 'ben': 34, 'matt': 8, 'tj': 3, 'rafa': 34, 'vu': 23}\n",
      "{'zac': 34, 'morfin': 1, 'sean': 8, 'aj': 12, 'katabe': 19, 'ben': 27, 'matt': 29, 'tj': 4, 'rafa': 26, 'vu': 11}\n",
      "{'zac': 4, 'morfin': 0, 'sean': 27, 'aj': 5, 'katabe': 26, 'ben': 10, 'matt': 7, 'tj': 17, 'rafa': 4, 'vu': 32}\n",
      "{'zac': 0, 'morfin': 28, 'sean': 15, 'aj': 0, 'katabe': 34, 'ben': 11, 'matt': 27, 'tj': 13, 'rafa': 29, 'vu': 24}\n"
     ]
    }
   ],
   "source": [
    "def get_manager_performance_for_gw(database, manager, best_performance, won_gw):\n",
    "    gw_to_return = -1\n",
    "    manager_z_score = -100 if best_performance else 100\n",
    "    for gw in range(database.get_number_of_gws()):\n",
    "        opponent = database.get_opponent(manager, gw)\n",
    "        manager_score = database.get_gw_score(manager, gw)\n",
    "        opponent_score = database.get_gw_score(opponent, gw)\n",
    "        # Check if the result matches the parameter\n",
    "        if((manager_score > opponent_score) == won_gw):\n",
    "            manager_gw_z_score = database.get_z_score(manager, gw)\n",
    "            if((best_performance and manager_gw_z_score > manager_z_score) or\n",
    "               (not best_performance and manager_gw_z_score < manager_z_score)):\n",
    "                manager_z_score = manager_gw_z_score\n",
    "                gw_to_return = gw\n",
    "    return gw_to_return\n",
    "    \n",
    "def get_manager_performance_gws(database, best_performance, won_gw):\n",
    "    manager_results = dict()\n",
    "    for manager in database.get_managers():\n",
    "        manager_results[manager] = get_manager_performance_for_gw(database, manager, best_performance, won_gw)\n",
    "    return manager_results\n",
    "\n",
    "def get_best_performing_loss_gws(database):\n",
    "    return get_manager_performance_gws(database, True, False)\n",
    "\n",
    "def get_worst_performing_win_gws(database):\n",
    "    return get_manager_performance_gws(database, False, True)\n",
    "\n",
    "def get_best_performing_win_gws(database):\n",
    "    return get_manager_performance_gws(database, True, True)\n",
    "\n",
    "def get_worst_performing_loss_gws(database):\n",
    "    return get_manager_performance_gws(database, False, False)\n",
    "\n",
    "print(get_best_performing_loss_gws(db))\n",
    "print(get_worst_performing_win_gws(db))\n",
    "print(get_best_performing_win_gws(db))\n",
    "print(get_worst_performing_loss_gws(db))"
   ]
  },
  {
   "cell_type": "code",
   "execution_count": 22,
   "metadata": {},
   "outputs": [
    {
     "name": "stdout",
     "output_type": "stream",
     "text": [
      "341\n",
      "['Sepp van den Berg', 'Conor Bradley', 'Cody Gakpo', 'Illia Zabarnyi', 'Alejandro Garnacho', 'John McGinn', 'Kevin Schade', 'Darwin Nunez']\n"
     ]
    }
   ],
   "source": [
    "player_id_data_map = db.get_player_id_map()\n",
    "manager_count_player_ids = dict()\n",
    "\n",
    "max_manager_count = 0\n",
    "\n",
    "for player_id in player_id_data_map.keys():\n",
    "    manager_count = len(player_id_data_map[player_id])\n",
    "    if(max_manager_count < manager_count):\n",
    "        max_manager_count = manager_count\n",
    "    if(manager_count not in manager_count_player_ids.keys()):\n",
    "        manager_count_player_ids[manager_count] = list()\n",
    "    manager_count_player_ids[manager_count].append(player_id)\n",
    "\n",
    "league_bikes = list()\n",
    "for player_id in manager_count_player_ids[max_manager_count]:\n",
    "    league_bikes.append(player_id_data_map[player_id][0].get_name())\n",
    "print(len(player_id_data_map))\n",
    "print(league_bikes)"
   ]
  },
  {
   "cell_type": "code",
   "execution_count": 28,
   "metadata": {},
   "outputs": [
    {
     "name": "stdout",
     "output_type": "stream",
     "text": [
      "zac's total score: 5303.5\n",
      "morfin's total score: 4618.5\n",
      "sean's total score: 5052.0\n",
      "aj's total score: 4652.5\n",
      "katabe's total score: 5045.0\n",
      "ben's total score: 5023.0\n",
      "matt's total score: 5271.0\n",
      "tj's total score: 5728.5\n",
      "rafa's total score: 5038.0\n",
      "vu's total score: 5847.0\n"
     ]
    }
   ],
   "source": [
    "for manager in db.get_managers():\n",
    "    player_data = db.get_manager_player_database(manager).get_all_player_data()\n",
    "    total_score = 0\n",
    "    for player_datum in player_data:\n",
    "        total_score += player_datum.get_points()\n",
    "    print(manager +\"'s total score: \" + str(total_score))\n",
    "    most_contributive_player\n",
    "    for player_datum in player_data:\n",
    "        total_score += player_datum.get_points()"
   ]
  },
  {
   "cell_type": "code",
   "execution_count": 1,
   "metadata": {},
   "outputs": [],
   "source": [
    "from fantraxapi import FantraxAPI"
   ]
  },
  {
   "cell_type": "code",
   "execution_count": 3,
   "metadata": {},
   "outputs": [],
   "source": [
    "\n",
    "league_id = \"96igs4677sgjk7ol\"\n",
    "\n",
    "api = FantraxAPI(league_id)"
   ]
  },
  {
   "cell_type": "code",
   "execution_count": 4,
   "metadata": {},
   "outputs": [
    {
     "ename": "Unauthorized",
     "evalue": "Unauthorized: Not Logged in",
     "output_type": "error",
     "traceback": [
      "\u001b[1;31m---------------------------------------------------------------------------\u001b[0m",
      "\u001b[1;31mUnauthorized\u001b[0m                              Traceback (most recent call last)",
      "\u001b[1;32m<ipython-input-4-9e91054dd5cb>\u001b[0m in \u001b[0;36m<module>\u001b[1;34m\u001b[0m\n\u001b[1;32m----> 1\u001b[1;33m \u001b[1;32mfor\u001b[0m \u001b[0m_\u001b[0m\u001b[1;33m,\u001b[0m \u001b[0mscoring_period\u001b[0m \u001b[1;32min\u001b[0m \u001b[0mapi\u001b[0m\u001b[1;33m.\u001b[0m\u001b[0mscoring_periods\u001b[0m\u001b[1;33m(\u001b[0m\u001b[1;33m)\u001b[0m\u001b[1;33m.\u001b[0m\u001b[0mitems\u001b[0m\u001b[1;33m(\u001b[0m\u001b[1;33m)\u001b[0m\u001b[1;33m:\u001b[0m\u001b[1;33m\u001b[0m\u001b[1;33m\u001b[0m\u001b[0m\n\u001b[0m\u001b[0;32m      2\u001b[0m     \u001b[0mprint\u001b[0m\u001b[1;33m(\u001b[0m\u001b[1;34m\"\"\u001b[0m\u001b[1;33m)\u001b[0m\u001b[1;33m\u001b[0m\u001b[1;33m\u001b[0m\u001b[0m\n\u001b[0;32m      3\u001b[0m     \u001b[0mprint\u001b[0m\u001b[1;33m(\u001b[0m\u001b[0mscoring_period\u001b[0m\u001b[1;33m)\u001b[0m\u001b[1;33m\u001b[0m\u001b[1;33m\u001b[0m\u001b[0m\n",
      "\u001b[1;32md:\\tools\\python39\\lib\\site-packages\\fantraxapi\\fantrax.py\u001b[0m in \u001b[0;36mscoring_periods\u001b[1;34m(self)\u001b[0m\n\u001b[0;32m     89\u001b[0m         \"\"\"\n\u001b[0;32m     90\u001b[0m         \u001b[0mperiods\u001b[0m \u001b[1;33m=\u001b[0m \u001b[1;33m{\u001b[0m\u001b[1;33m}\u001b[0m\u001b[1;33m\u001b[0m\u001b[1;33m\u001b[0m\u001b[0m\n\u001b[1;32m---> 91\u001b[1;33m         \u001b[0mresponse\u001b[0m \u001b[1;33m=\u001b[0m \u001b[0mself\u001b[0m\u001b[1;33m.\u001b[0m\u001b[0m_request\u001b[0m\u001b[1;33m(\u001b[0m\u001b[1;34m\"getStandings\"\u001b[0m\u001b[1;33m,\u001b[0m \u001b[0mview\u001b[0m\u001b[1;33m=\u001b[0m\u001b[1;34m\"SCHEDULE\"\u001b[0m\u001b[1;33m)\u001b[0m\u001b[1;33m\u001b[0m\u001b[1;33m\u001b[0m\u001b[0m\n\u001b[0m\u001b[0;32m     92\u001b[0m         \u001b[0mself\u001b[0m\u001b[1;33m.\u001b[0m\u001b[0m_teams\u001b[0m \u001b[1;33m=\u001b[0m \u001b[1;33m[\u001b[0m\u001b[1;33m]\u001b[0m\u001b[1;33m\u001b[0m\u001b[1;33m\u001b[0m\u001b[0m\n\u001b[0;32m     93\u001b[0m         \u001b[1;32mfor\u001b[0m \u001b[0mteam_id\u001b[0m\u001b[1;33m,\u001b[0m \u001b[0mdata\u001b[0m \u001b[1;32min\u001b[0m \u001b[0mresponse\u001b[0m\u001b[1;33m[\u001b[0m\u001b[1;34m\"fantasyTeamInfo\"\u001b[0m\u001b[1;33m]\u001b[0m\u001b[1;33m.\u001b[0m\u001b[0mitems\u001b[0m\u001b[1;33m(\u001b[0m\u001b[1;33m)\u001b[0m\u001b[1;33m:\u001b[0m\u001b[1;33m\u001b[0m\u001b[1;33m\u001b[0m\u001b[0m\n",
      "\u001b[1;32md:\\tools\\python39\\lib\\site-packages\\fantraxapi\\fantrax.py\u001b[0m in \u001b[0;36m_request\u001b[1;34m(self, method, **kwargs)\u001b[0m\n\u001b[0;32m     78\u001b[0m             \u001b[1;32mif\u001b[0m \u001b[1;34m\"code\"\u001b[0m \u001b[1;32min\u001b[0m \u001b[0mresponse_json\u001b[0m\u001b[1;33m[\u001b[0m\u001b[1;34m\"pageError\"\u001b[0m\u001b[1;33m]\u001b[0m\u001b[1;33m:\u001b[0m\u001b[1;33m\u001b[0m\u001b[1;33m\u001b[0m\u001b[0m\n\u001b[0;32m     79\u001b[0m                 \u001b[1;32mif\u001b[0m \u001b[0mresponse_json\u001b[0m\u001b[1;33m[\u001b[0m\u001b[1;34m\"pageError\"\u001b[0m\u001b[1;33m]\u001b[0m\u001b[1;33m[\u001b[0m\u001b[1;34m\"code\"\u001b[0m\u001b[1;33m]\u001b[0m \u001b[1;33m==\u001b[0m \u001b[1;34m\"WARNING_NOT_LOGGED_IN\"\u001b[0m\u001b[1;33m:\u001b[0m\u001b[1;33m\u001b[0m\u001b[1;33m\u001b[0m\u001b[0m\n\u001b[1;32m---> 80\u001b[1;33m                     \u001b[1;32mraise\u001b[0m \u001b[0mUnauthorized\u001b[0m\u001b[1;33m(\u001b[0m\u001b[1;34m\"Unauthorized: Not Logged in\"\u001b[0m\u001b[1;33m)\u001b[0m\u001b[1;33m\u001b[0m\u001b[1;33m\u001b[0m\u001b[0m\n\u001b[0m\u001b[0;32m     81\u001b[0m             \u001b[1;32mraise\u001b[0m \u001b[0mFantraxException\u001b[0m\u001b[1;33m(\u001b[0m\u001b[1;34mf\"Error: {response_json}\"\u001b[0m\u001b[1;33m)\u001b[0m\u001b[1;33m\u001b[0m\u001b[1;33m\u001b[0m\u001b[0m\n\u001b[0;32m     82\u001b[0m         \u001b[1;32mreturn\u001b[0m \u001b[0mresponse_json\u001b[0m\u001b[1;33m[\u001b[0m\u001b[1;34m\"responses\"\u001b[0m\u001b[1;33m]\u001b[0m\u001b[1;33m[\u001b[0m\u001b[1;36m0\u001b[0m\u001b[1;33m]\u001b[0m\u001b[1;33m[\u001b[0m\u001b[1;34m\"data\"\u001b[0m\u001b[1;33m]\u001b[0m\u001b[1;33m\u001b[0m\u001b[1;33m\u001b[0m\u001b[0m\n",
      "\u001b[1;31mUnauthorized\u001b[0m: Unauthorized: Not Logged in"
     ]
    }
   ],
   "source": [
    "for _, scoring_period in api.scoring_periods().items():\n",
    "    print(\"\")\n",
    "    print(scoring_period)"
   ]
  },
  {
   "cell_type": "code",
   "execution_count": 5,
   "metadata": {},
   "outputs": [],
   "source": [
    "fpl_23 = \"kfszz7vdmdl0krou\"\n",
    "fpl_24 = \"962c1utjlzbm8vb8\"\n",
    "fpl_25 = \"ablch5snljylssmy\""
   ]
  },
  {
   "cell_type": "code",
   "execution_count": 15,
   "metadata": {},
   "outputs": [
    {
     "ename": "AttributeError",
     "evalue": "'ScoringPeriod' object has no attribute 'week'",
     "output_type": "error",
     "traceback": [
      "\u001b[1;31m---------------------------------------------------------------------------\u001b[0m",
      "\u001b[1;31mAttributeError\u001b[0m                            Traceback (most recent call last)",
      "\u001b[1;32m<ipython-input-15-b3e178a33dfd>\u001b[0m in \u001b[0;36m<module>\u001b[1;34m\u001b[0m\n\u001b[0;32m      1\u001b[0m \u001b[0mapi\u001b[0m \u001b[1;33m=\u001b[0m \u001b[0mFantraxAPI\u001b[0m\u001b[1;33m(\u001b[0m\u001b[0mfpl_24\u001b[0m\u001b[1;33m)\u001b[0m\u001b[1;33m\u001b[0m\u001b[1;33m\u001b[0m\u001b[0m\n\u001b[1;32m----> 2\u001b[1;33m \u001b[0mprint\u001b[0m\u001b[1;33m(\u001b[0m\u001b[0mapi\u001b[0m\u001b[1;33m.\u001b[0m\u001b[0mscoring_periods\u001b[0m\u001b[1;33m(\u001b[0m\u001b[1;33m)\u001b[0m\u001b[1;33m)\u001b[0m\u001b[1;33m\u001b[0m\u001b[1;33m\u001b[0m\u001b[0m\n\u001b[0m",
      "\u001b[1;32md:\\tools\\python39\\lib\\site-packages\\fantraxapi\\fantrax.py\u001b[0m in \u001b[0;36mscoring_periods\u001b[1;34m(self)\u001b[0m\n\u001b[0;32m     95\u001b[0m         \u001b[1;32mfor\u001b[0m \u001b[0mperiod_data\u001b[0m \u001b[1;32min\u001b[0m \u001b[0mresponse\u001b[0m\u001b[1;33m[\u001b[0m\u001b[1;34m\"tableList\"\u001b[0m\u001b[1;33m]\u001b[0m\u001b[1;33m:\u001b[0m\u001b[1;33m\u001b[0m\u001b[1;33m\u001b[0m\u001b[0m\n\u001b[0;32m     96\u001b[0m             \u001b[0mperiod\u001b[0m \u001b[1;33m=\u001b[0m \u001b[0mScoringPeriod\u001b[0m\u001b[1;33m(\u001b[0m\u001b[0mself\u001b[0m\u001b[1;33m,\u001b[0m \u001b[0mperiod_data\u001b[0m\u001b[1;33m)\u001b[0m\u001b[1;33m\u001b[0m\u001b[1;33m\u001b[0m\u001b[0m\n\u001b[1;32m---> 97\u001b[1;33m             \u001b[0mperiods\u001b[0m\u001b[1;33m[\u001b[0m\u001b[0mperiod\u001b[0m\u001b[1;33m.\u001b[0m\u001b[0mweek\u001b[0m\u001b[1;33m]\u001b[0m \u001b[1;33m=\u001b[0m \u001b[0mperiod\u001b[0m\u001b[1;33m\u001b[0m\u001b[1;33m\u001b[0m\u001b[0m\n\u001b[0m\u001b[0;32m     98\u001b[0m         \u001b[1;32mreturn\u001b[0m \u001b[0mperiods\u001b[0m\u001b[1;33m\u001b[0m\u001b[1;33m\u001b[0m\u001b[0m\n\u001b[0;32m     99\u001b[0m \u001b[1;33m\u001b[0m\u001b[0m\n",
      "\u001b[1;31mAttributeError\u001b[0m: 'ScoringPeriod' object has no attribute 'week'"
     ]
    }
   ],
   "source": [
    "\n"
   ]
  },
  {
   "cell_type": "code",
   "execution_count": null,
   "metadata": {},
   "outputs": [],
   "source": [
    "import pickle\n",
    "import time\n",
    "from selenium import webdriver\n",
    "from selenium.webdriver.chrome.service import Service\n",
    "from selenium.webdriver.chrome.options import Options\n",
    "from webdriver_manager.chrome import ChromeDriverManager\n",
    "\n",
    "service = Service(ChromeDriverManager().install())\n",
    "\n",
    "options = Options()\n",
    "options.add_argument(\"--window-size=1920,1600\")\n",
    "options.add_argument(\"user-agent=Mozilla/5.0 (Windows NT 10.0; Win64; x64) AppleWebKit/537.36 (KHTML, like Gecko) Chrome/97.0.4692.71 Safari/537.36\")\n",
    "\n",
    "with webdriver.Chrome(service=service, options=options) as driver:\n",
    "    driver.get(\"https://www.fantrax.com/login\")\n",
    "    time.sleep(30)\n",
    "    pickle.dump(driver.get_cookies(), open(\"fantraxloggedin.cookie\", \"wb\"))"
   ]
  },
  {
   "cell_type": "code",
   "execution_count": null,
   "metadata": {},
   "outputs": [],
   "source": [
    "import pickle\n",
    "from fantraxapi import FantraxAPI\n",
    "from requests import Session\n",
    "\n",
    "session = Session()\n",
    "\n",
    "with open(\"fantraxloggedin.cookie\", \"rb\") as f:\n",
    "    for cookie in pickle.load(f):\n",
    "        session.cookies.set(cookie[\"name\"], cookie[\"value\"])\n",
    "        \n",
    "api = FantraxAPI(fpl_24)\n",
    "print(api.trade_block()) "
   ]
  },
  {
   "cell_type": "code",
   "execution_count": 20,
   "metadata": {},
   "outputs": [
    {
     "ename": "AttributeError",
     "evalue": "'ScoringPeriod' object has no attribute 'week'",
     "output_type": "error",
     "traceback": [
      "\u001b[1;31m---------------------------------------------------------------------------\u001b[0m",
      "\u001b[1;31mAttributeError\u001b[0m                            Traceback (most recent call last)",
      "\u001b[1;32m<ipython-input-20-b3e178a33dfd>\u001b[0m in \u001b[0;36m<module>\u001b[1;34m\u001b[0m\n\u001b[0;32m      1\u001b[0m \u001b[0mapi\u001b[0m \u001b[1;33m=\u001b[0m \u001b[0mFantraxAPI\u001b[0m\u001b[1;33m(\u001b[0m\u001b[0mfpl_24\u001b[0m\u001b[1;33m)\u001b[0m\u001b[1;33m\u001b[0m\u001b[1;33m\u001b[0m\u001b[0m\n\u001b[1;32m----> 2\u001b[1;33m \u001b[0mprint\u001b[0m\u001b[1;33m(\u001b[0m\u001b[0mapi\u001b[0m\u001b[1;33m.\u001b[0m\u001b[0mscoring_periods\u001b[0m\u001b[1;33m(\u001b[0m\u001b[1;33m)\u001b[0m\u001b[1;33m)\u001b[0m\u001b[1;33m\u001b[0m\u001b[1;33m\u001b[0m\u001b[0m\n\u001b[0m",
      "\u001b[1;32md:\\tools\\python39\\lib\\site-packages\\fantraxapi\\fantrax.py\u001b[0m in \u001b[0;36mscoring_periods\u001b[1;34m(self)\u001b[0m\n\u001b[0;32m     95\u001b[0m         \u001b[1;32mfor\u001b[0m \u001b[0mperiod_data\u001b[0m \u001b[1;32min\u001b[0m \u001b[0mresponse\u001b[0m\u001b[1;33m[\u001b[0m\u001b[1;34m\"tableList\"\u001b[0m\u001b[1;33m]\u001b[0m\u001b[1;33m:\u001b[0m\u001b[1;33m\u001b[0m\u001b[1;33m\u001b[0m\u001b[0m\n\u001b[0;32m     96\u001b[0m             \u001b[0mperiod\u001b[0m \u001b[1;33m=\u001b[0m \u001b[0mScoringPeriod\u001b[0m\u001b[1;33m(\u001b[0m\u001b[0mself\u001b[0m\u001b[1;33m,\u001b[0m \u001b[0mperiod_data\u001b[0m\u001b[1;33m)\u001b[0m\u001b[1;33m\u001b[0m\u001b[1;33m\u001b[0m\u001b[0m\n\u001b[1;32m---> 97\u001b[1;33m             \u001b[0mperiods\u001b[0m\u001b[1;33m[\u001b[0m\u001b[0mperiod\u001b[0m\u001b[1;33m.\u001b[0m\u001b[0mweek\u001b[0m\u001b[1;33m]\u001b[0m \u001b[1;33m=\u001b[0m \u001b[0mperiod\u001b[0m\u001b[1;33m\u001b[0m\u001b[1;33m\u001b[0m\u001b[0m\n\u001b[0m\u001b[0;32m     98\u001b[0m         \u001b[1;32mreturn\u001b[0m \u001b[0mperiods\u001b[0m\u001b[1;33m\u001b[0m\u001b[1;33m\u001b[0m\u001b[0m\n\u001b[0;32m     99\u001b[0m \u001b[1;33m\u001b[0m\u001b[0m\n",
      "\u001b[1;31mAttributeError\u001b[0m: 'ScoringPeriod' object has no attribute 'week'"
     ]
    }
   ],
   "source": []
  },
  {
   "cell_type": "code",
   "execution_count": null,
   "metadata": {},
   "outputs": [],
   "source": []
  }
 ],
 "metadata": {
  "kernelspec": {
   "display_name": "Python 3",
   "language": "python",
   "name": "python3"
  },
  "language_info": {
   "codemirror_mode": {
    "name": "ipython",
    "version": 3
   },
   "file_extension": ".py",
   "mimetype": "text/x-python",
   "name": "python",
   "nbconvert_exporter": "python",
   "pygments_lexer": "ipython3",
   "version": "3.9.0"
  }
 },
 "nbformat": 4,
 "nbformat_minor": 4
}
