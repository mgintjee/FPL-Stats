{
 "cells": [
  {
   "cell_type": "code",
   "execution_count": 1,
   "metadata": {},
   "outputs": [
    {
     "name": "stderr",
     "output_type": "stream",
     "text": [
      "d:\\tools\\python39\\lib\\site-packages\\requests\\__init__.py:89: RequestsDependencyWarning: urllib3 (2.5.0) or chardet (3.0.4) doesn't match a supported version!\n",
      "  warnings.warn(\"urllib3 ({}) or chardet ({}) doesn't match a supported \"\n"
     ]
    }
   ],
   "source": [
    "from fantraxapi import FantraxAPI"
   ]
  },
  {
   "cell_type": "code",
   "execution_count": 2,
   "metadata": {},
   "outputs": [],
   "source": [
    "fpl_23 = \"kfszz7vdmdl0krou\"\n",
    "fpl_24 = \"962c1utjlzbm8vb8\"\n",
    "fpl_25 = \"ablch5snljylssmy\""
   ]
  },
  {
   "cell_type": "code",
   "execution_count": 3,
   "metadata": {},
   "outputs": [],
   "source": [
    "import pickle\n",
    "import time\n",
    "from selenium import webdriver\n",
    "from selenium.webdriver.chrome.service import Service\n",
    "from selenium.webdriver.chrome.options import Options\n",
    "from webdriver_manager.chrome import ChromeDriverManager\n",
    "\n",
    "service = Service(ChromeDriverManager().install())\n",
    "\n",
    "options = Options()\n",
    "options.add_argument(\"--window-size=1920,1600\")\n",
    "options.add_argument(\"user-agent=Mozilla/5.0 (Windows NT 10.0; Win64; x64) AppleWebKit/537.36 (KHTML, like Gecko) Chrome/97.0.4692.71 Safari/537.36\")\n",
    "\n",
    "with webdriver.Chrome(service=service, options=options) as driver:\n",
    "    driver.get(\"https://www.fantrax.com/login\")\n",
    "    time.sleep(30)\n",
    "    pickle.dump(driver.get_cookies(), open(\"fantraxloggedin.cookie\", \"wb\"))"
   ]
  },
  {
   "cell_type": "code",
   "execution_count": 5,
   "metadata": {},
   "outputs": [
    {
     "name": "stdout",
     "output_type": "stream",
     "text": [
      "<RequestsCookieJar[<Cookie 33acrossIdTp=e8c7hCIMRTzl5%2Bus6lkSs7uh0KzPDa9wnA2FKOPY4DU%3D for />, <Cookie AMZN-Token=v2FweLx6elFPT0JlOEtOVDRHVHEzWEF0eUtoVlNIZURXUndQYTQzMDg0LzBkbEZ1dHRYN3pYNzUxMEdJaVFTYlZnWUNzZzZsV1F4aU9oM3Npd1h4U2NEendwN25qenJjcHRqVytlaG5US2k1aUl0RjVWUGdwa3Zyb3NLVXh6REZIam1mc0orbEJMbkpSR2haVVpKZmRoK3V6RE9ucXBrUCtFUlJBcHRwNFRhbi9tem84aHU5a2FEMDV6YStDbE9VPWJrdgFiaXZ4HEVlKy92UjVQNzcrOVUxbnZ2NzN2djczdnY3MTT/ for />, <Cookie FCNEC=%5B%5B%22AKsRol_4SNeJdi2Hz4j2JbpIUdtGyiy96myJeaIPU85gZTcEarJtWOjKD06oYMDQBHmcoBY1zxqto4Fq8LqogMKK1Y_Naka_UZau7EpgO7N5c56D9VqaJA1awNG_d9jfdNWXJGrS9D58EbFOFubDR0f5QTNdtlcJyw%3D%3D%22%5D%5D for />, <Cookie FX_RM=_qpxzAAMBAlhUG0QJGVJFVwBcUkNTU1wSDAJaBxAKGFYGXAQ= for />, <Cookie JSESSIONID=node08d4w8w4ov8et13y5yu7qk0fgn90947.node0 for />, <Cookie __cf_bm=FKh94Utta6A7WRxxjYv5GYxGdF6thwJWMlRveMG0H1o-1760323361-1.0.1.1-8Q7JgfvVJQCAJY4WzQAioswYmJZVZlLcDMMF1VNvGdC6UJyAhuwcWfEf.5PbCjk4ZzWuBJAsKTyOA0cGpDEhkAfbLS.UpMgjqPLqfmTIgg8 for />, <Cookie __eoi=ID=0a0dc777d9730b80:T=1760323376:RT=1760323376:S=AA-AfjbNHfvCTnyjV2afeEOlW6S9 for />, <Cookie __gads=ID=ee91cfd6a1478e12:T=1760323376:RT=1760323376:S=ALNI_MY9mVQ5Ia58aVVDV_1Q_V8uJG6Yeg for />, <Cookie __gpi=UID=0000129d50cf3116:T=1760323376:RT=1760323376:S=ALNI_MZIbjGefpHMqXcrC4kZiOwa_2Mkzw for />, <Cookie _cc_id=fd19f04150515a5b373d7d604497380d for />, <Cookie _ga=GA1.2.1773177778.1760323361 for />, <Cookie _ga_DM2Q31JXYV=GS2.2.s1760323361$o1$g1$t1760323372$j49$l0$h0 for />, <Cookie _gat=1 for />, <Cookie _gid=GA1.2.766209763.1760323361 for />, <Cookie _iiq_fdata=%7B%22pcid%22%3A%22dee929b6-1172-f6be-a230-d8aacde935ff%22%2C%22pcidDate%22%3A1760323373437%7D for />, <Cookie _lr_env_src_ats=false for />, <Cookie _lr_retry_request=true for />, <Cookie cf_clearance=GEHkPrHRa1aqUUMjRfb4BUL6CKALKQCmWz56yN4bHrk-1760323362-1.2.1.1-lYEAd9EtCBOoC_7s4ZaLpetbqwb2_SgVXJ.nCr9wAhbuDRS5fIs0zQCMPRvfkFusvV.BO_9PdBAMZyXdXfKV4yL937EXdwPScpx5hF4r0uXRRlvGraqVDdYhodkXrMisHit2uR1FZe6tteKz07ubmldnOWj_vcgTgZq6gKswuR0hxXLqRn6mpWu77r4dWJCucR59vFk3yVDHBUpWvupMVDEooox7UsTALsHqOFehIlo for />, <Cookie cto_bundle=v0ozoF94VHlCUnZEOEd1d1hGaGlvNzMybmVGMGVDcTZDbzdOc0tDVGxDczhmSHZidzZXMWxWZHYyeWJpNmdUeWp6dFdkUkVvVXNBdEJ2RlhCbWZaZVNLcm81R3pmcFd4aVNzbUh2VGhBOXBqUmRGYkp4V2hLcVRaZGhIYjdtS1JvYWY4Q2x0dkNsUEFXRVVaNGRnaDg4aUtvUWclM0QlM0Q for />, <Cookie panoramaId=fe4edd3ab520e8fa8da3dc7a2888185ca02c688306cb72f9e21575517a2824b2 for />, <Cookie panoramaIdType=panoDevice for />, <Cookie panoramaId_expiry=1760928174986 for />, <Cookie pbjs-unifiedid=%7B%22TDID%22%3A%22a41d0c56-421c-4e1d-9ccc-a6225a4e89a2%22%2C%22TDID_LOOKUP%22%3A%22FALSE%22%2C%22TDID_CREATED_AT%22%3A%222025-10-13T02%3A42%3A54%22%7D for />, <Cookie pbjs-unifiedid_cst=YiwPLDosoA%3D%3D for />, <Cookie pbjs-unifiedid_last=Mon%2C%2013%20Oct%202025%2002%3A42%3A54%20GMT for />, <Cookie ui=gked38q3lk7qe3o4 for />, <Cookie uig=0n5ssx0cmgoj2uxx for />, <Cookie usnatUUID=f1d7803b-5bbe-441f-9547-bf318d4623da for />]>\n"
     ]
    },
    {
     "ename": "Unauthorized",
     "evalue": "Unauthorized: Not Logged in",
     "output_type": "error",
     "traceback": [
      "\u001b[1;31m---------------------------------------------------------------------------\u001b[0m",
      "\u001b[1;31mUnauthorized\u001b[0m                              Traceback (most recent call last)",
      "\u001b[1;32m<ipython-input-5-b636ee8983d7>\u001b[0m in \u001b[0;36m<module>\u001b[1;34m\u001b[0m\n\u001b[0;32m     10\u001b[0m \u001b[0mprint\u001b[0m\u001b[1;33m(\u001b[0m\u001b[0msession\u001b[0m\u001b[1;33m.\u001b[0m\u001b[0mcookies\u001b[0m\u001b[1;33m)\u001b[0m\u001b[1;33m\u001b[0m\u001b[1;33m\u001b[0m\u001b[0m\n\u001b[0;32m     11\u001b[0m \u001b[0mapi\u001b[0m \u001b[1;33m=\u001b[0m \u001b[0mFantraxAPI\u001b[0m\u001b[1;33m(\u001b[0m\u001b[0mfpl_24\u001b[0m\u001b[1;33m)\u001b[0m\u001b[1;33m\u001b[0m\u001b[1;33m\u001b[0m\u001b[0m\n\u001b[1;32m---> 12\u001b[1;33m \u001b[0mprint\u001b[0m\u001b[1;33m(\u001b[0m\u001b[0mapi\u001b[0m\u001b[1;33m.\u001b[0m\u001b[0mtrade_block\u001b[0m\u001b[1;33m(\u001b[0m\u001b[1;33m)\u001b[0m\u001b[1;33m)\u001b[0m\u001b[1;33m\u001b[0m\u001b[1;33m\u001b[0m\u001b[0m\n\u001b[0m",
      "\u001b[1;32md:\\tools\\python39\\lib\\site-packages\\fantraxapi\\fantrax.py\u001b[0m in \u001b[0;36mtrade_block\u001b[1;34m(self)\u001b[0m\n\u001b[0;32m    126\u001b[0m \u001b[1;33m\u001b[0m\u001b[0m\n\u001b[0;32m    127\u001b[0m     \u001b[1;32mdef\u001b[0m \u001b[0mtrade_block\u001b[0m\u001b[1;33m(\u001b[0m\u001b[0mself\u001b[0m\u001b[1;33m)\u001b[0m\u001b[1;33m:\u001b[0m\u001b[1;33m\u001b[0m\u001b[1;33m\u001b[0m\u001b[0m\n\u001b[1;32m--> 128\u001b[1;33m         \u001b[1;32mreturn\u001b[0m \u001b[1;33m[\u001b[0m\u001b[0mTradeBlock\u001b[0m\u001b[1;33m(\u001b[0m\u001b[0mself\u001b[0m\u001b[1;33m,\u001b[0m \u001b[0mblock\u001b[0m\u001b[1;33m)\u001b[0m \u001b[1;32mfor\u001b[0m \u001b[0mblock\u001b[0m \u001b[1;32min\u001b[0m \u001b[0mself\u001b[0m\u001b[1;33m.\u001b[0m\u001b[0m_request\u001b[0m\u001b[1;33m(\u001b[0m\u001b[1;34m\"getTradeBlocks\"\u001b[0m\u001b[1;33m)\u001b[0m\u001b[1;33m[\u001b[0m\u001b[1;34m\"tradeBlocks\"\u001b[0m\u001b[1;33m]\u001b[0m \u001b[1;32mif\u001b[0m \u001b[0mlen\u001b[0m\u001b[1;33m(\u001b[0m\u001b[0mblock\u001b[0m\u001b[1;33m)\u001b[0m \u001b[1;33m>\u001b[0m \u001b[1;36m2\u001b[0m\u001b[1;33m]\u001b[0m\u001b[1;33m\u001b[0m\u001b[1;33m\u001b[0m\u001b[0m\n\u001b[0m\u001b[0;32m    129\u001b[0m \u001b[1;33m\u001b[0m\u001b[0m\n\u001b[0;32m    130\u001b[0m     \u001b[1;32mdef\u001b[0m \u001b[0mtransactions\u001b[0m\u001b[1;33m(\u001b[0m\u001b[0mself\u001b[0m\u001b[1;33m,\u001b[0m \u001b[0mcount\u001b[0m\u001b[1;33m=\u001b[0m\u001b[1;36m100\u001b[0m\u001b[1;33m)\u001b[0m \u001b[1;33m->\u001b[0m \u001b[0mList\u001b[0m\u001b[1;33m[\u001b[0m\u001b[0mTransaction\u001b[0m\u001b[1;33m]\u001b[0m\u001b[1;33m:\u001b[0m\u001b[1;33m\u001b[0m\u001b[1;33m\u001b[0m\u001b[0m\n",
      "\u001b[1;32md:\\tools\\python39\\lib\\site-packages\\fantraxapi\\fantrax.py\u001b[0m in \u001b[0;36m_request\u001b[1;34m(self, method, **kwargs)\u001b[0m\n\u001b[0;32m     78\u001b[0m             \u001b[1;32mif\u001b[0m \u001b[1;34m\"code\"\u001b[0m \u001b[1;32min\u001b[0m \u001b[0mresponse_json\u001b[0m\u001b[1;33m[\u001b[0m\u001b[1;34m\"pageError\"\u001b[0m\u001b[1;33m]\u001b[0m\u001b[1;33m:\u001b[0m\u001b[1;33m\u001b[0m\u001b[1;33m\u001b[0m\u001b[0m\n\u001b[0;32m     79\u001b[0m                 \u001b[1;32mif\u001b[0m \u001b[0mresponse_json\u001b[0m\u001b[1;33m[\u001b[0m\u001b[1;34m\"pageError\"\u001b[0m\u001b[1;33m]\u001b[0m\u001b[1;33m[\u001b[0m\u001b[1;34m\"code\"\u001b[0m\u001b[1;33m]\u001b[0m \u001b[1;33m==\u001b[0m \u001b[1;34m\"WARNING_NOT_LOGGED_IN\"\u001b[0m\u001b[1;33m:\u001b[0m\u001b[1;33m\u001b[0m\u001b[1;33m\u001b[0m\u001b[0m\n\u001b[1;32m---> 80\u001b[1;33m                     \u001b[1;32mraise\u001b[0m \u001b[0mUnauthorized\u001b[0m\u001b[1;33m(\u001b[0m\u001b[1;34m\"Unauthorized: Not Logged in\"\u001b[0m\u001b[1;33m)\u001b[0m\u001b[1;33m\u001b[0m\u001b[1;33m\u001b[0m\u001b[0m\n\u001b[0m\u001b[0;32m     81\u001b[0m             \u001b[1;32mraise\u001b[0m \u001b[0mFantraxException\u001b[0m\u001b[1;33m(\u001b[0m\u001b[1;34mf\"Error: {response_json}\"\u001b[0m\u001b[1;33m)\u001b[0m\u001b[1;33m\u001b[0m\u001b[1;33m\u001b[0m\u001b[0m\n\u001b[0;32m     82\u001b[0m         \u001b[1;32mreturn\u001b[0m \u001b[0mresponse_json\u001b[0m\u001b[1;33m[\u001b[0m\u001b[1;34m\"responses\"\u001b[0m\u001b[1;33m]\u001b[0m\u001b[1;33m[\u001b[0m\u001b[1;36m0\u001b[0m\u001b[1;33m]\u001b[0m\u001b[1;33m[\u001b[0m\u001b[1;34m\"data\"\u001b[0m\u001b[1;33m]\u001b[0m\u001b[1;33m\u001b[0m\u001b[1;33m\u001b[0m\u001b[0m\n",
      "\u001b[1;31mUnauthorized\u001b[0m: Unauthorized: Not Logged in"
     ]
    }
   ],
   "source": [
    "import pickle\n",
    "from fantraxapi import FantraxAPI\n",
    "from requests import Session\n",
    "\n",
    "session = Session()\n",
    "\n",
    "with open(\"fantraxloggedin.cookie\", \"rb\") as f:\n",
    "    for cookie in pickle.load(f):\n",
    "        session.cookies.set(cookie[\"name\"], cookie[\"value\"])\n",
    "        \n",
    "api = FantraxAPI(fpl_24)\n",
    "print(api.trade_block()) "
   ]
  },
  {
   "cell_type": "code",
   "execution_count": null,
   "metadata": {},
   "outputs": [],
   "source": []
  },
  {
   "cell_type": "code",
   "execution_count": null,
   "metadata": {},
   "outputs": [],
   "source": []
  }
 ],
 "metadata": {
  "kernelspec": {
   "display_name": "Python 3",
   "language": "python",
   "name": "python3"
  },
  "language_info": {
   "codemirror_mode": {
    "name": "ipython",
    "version": 3
   },
   "file_extension": ".py",
   "mimetype": "text/x-python",
   "name": "python",
   "nbconvert_exporter": "python",
   "pygments_lexer": "ipython3",
   "version": "3.9.0"
  }
 },
 "nbformat": 4,
 "nbformat_minor": 4
}
