{
 "cells": [
  {
   "cell_type": "code",
   "execution_count": 1,
   "metadata": {},
   "outputs": [],
   "source": [
    "# Add the libraies path to python\n",
    "import sys\n",
    "import os\n",
    "sys.path.append(os.path.join(os.getcwd(), '..\\\\python\\\\database'))\n",
    "sys.path.append(os.path.join(os.getcwd(), '..\\\\python\\\\charts'))\n",
    "\n",
    "# Library imports\n",
    "import database\n",
    "import performance_charts"
   ]
  },
  {
   "cell_type": "code",
   "execution_count": 2,
   "metadata": {},
   "outputs": [],
   "source": [
    "# Constants to use in this notebook\n",
    "season = \"2024\"\n",
    "# Build the database for the season\n",
    "db = database.database(season)"
   ]
  },
  {
   "cell_type": "code",
   "execution_count": 3,
   "metadata": {},
   "outputs": [
    {
     "name": "stdout",
     "output_type": "stream",
     "text": [
      "+--------+------------+------------+-------------+--------------+----------------+------------+-------------+--------------+--------------+----------------+------------+\n",
      "|  2024  | Against tj | Against vu | Against zac | Against rafa | Against katabe | Against aj | Against ben | Against matt | Against sean | Against morfin | Total Wins |\n",
      "+--------+------------+------------+-------------+--------------+----------------+------------+-------------+--------------+--------------+----------------+------------+\n",
      "|   tj   |     X      |    \u001b[0;49;32m3/4\u001b[0;0m     |     \u001b[0;49;32m3/4\u001b[0;0m     |     \u001b[0;49;33m2/4\u001b[0;0m      |      \u001b[0;49;33m2/4\u001b[0;0m       |    \u001b[0;49;32m3/4\u001b[0;0m     |     \u001b[0;49;32m4/4\u001b[0;0m     |     \u001b[0;49;33m2/4\u001b[0;0m      |     \u001b[0;49;32m3/4\u001b[0;0m      |      \u001b[0;49;32m4/4\u001b[0;0m       |   \u001b[0;49;32m26/36\u001b[0;0m    |\n",
      "|   vu   |    \u001b[0;49;31m1/4\u001b[0;0m     |     X      |     \u001b[0;49;33m2/4\u001b[0;0m     |     \u001b[0;49;33m2/4\u001b[0;0m      |      \u001b[0;49;32m4/4\u001b[0;0m       |    \u001b[0;49;32m4/4\u001b[0;0m     |     \u001b[0;49;33m2/4\u001b[0;0m     |     \u001b[0;49;32m3/4\u001b[0;0m      |     \u001b[0;49;32m4/4\u001b[0;0m      |      \u001b[0;49;32m3/4\u001b[0;0m       |   \u001b[0;49;32m25/36\u001b[0;0m    |\n",
      "|  zac   |    \u001b[0;49;31m1/4\u001b[0;0m     |    \u001b[0;49;33m2/4\u001b[0;0m     |      X      |     \u001b[0;49;33m2/4\u001b[0;0m      |      \u001b[0;49;33m2/4\u001b[0;0m       |    \u001b[0;49;33m2/4\u001b[0;0m     |     \u001b[0;49;33m2/4\u001b[0;0m     |     \u001b[0;49;32m3/4\u001b[0;0m      |     \u001b[0;49;32m4/4\u001b[0;0m      |      \u001b[0;49;32m3/4\u001b[0;0m       |   \u001b[0;49;33m21/36\u001b[0;0m    |\n",
      "|  rafa  |    \u001b[0;49;33m2/4\u001b[0;0m     |    \u001b[0;49;33m2/4\u001b[0;0m     |     \u001b[0;49;33m2/4\u001b[0;0m     |      X       |      \u001b[0;49;32m3/4\u001b[0;0m       |    \u001b[0;49;31m0/4\u001b[0;0m     |     \u001b[0;49;32m3/4\u001b[0;0m     |     \u001b[0;49;33m2/4\u001b[0;0m      |     \u001b[0;49;33m2/4\u001b[0;0m      |      \u001b[0;49;32m4/4\u001b[0;0m       |   \u001b[0;49;33m20/36\u001b[0;0m    |\n",
      "| katabe |    \u001b[0;49;33m2/4\u001b[0;0m     |    \u001b[0;49;31m0/4\u001b[0;0m     |     \u001b[0;49;33m2/4\u001b[0;0m     |     \u001b[0;49;31m1/4\u001b[0;0m      |       X        |    \u001b[0;49;32m3/4\u001b[0;0m     |     \u001b[0;49;32m3/4\u001b[0;0m     |     \u001b[0;49;33m2/4\u001b[0;0m      |     \u001b[0;49;32m3/4\u001b[0;0m      |      \u001b[0;49;33m2/4\u001b[0;0m       |   \u001b[0;49;33m18/36\u001b[0;0m    |\n",
      "|   aj   |    \u001b[0;49;31m1/4\u001b[0;0m     |    \u001b[0;49;31m0/4\u001b[0;0m     |     \u001b[0;49;33m2/4\u001b[0;0m     |     \u001b[0;49;32m4/4\u001b[0;0m      |      \u001b[0;49;31m1/4\u001b[0;0m       |     X      |     \u001b[0;49;31m1/4\u001b[0;0m     |     \u001b[0;49;33m2/4\u001b[0;0m      |     \u001b[0;49;33m2/4\u001b[0;0m      |      \u001b[0;49;32m4/4\u001b[0;0m       |   \u001b[0;49;33m17/36\u001b[0;0m    |\n",
      "|  ben   |    \u001b[0;49;31m0/4\u001b[0;0m     |    \u001b[0;49;33m2/4\u001b[0;0m     |     \u001b[0;49;33m2/4\u001b[0;0m     |     \u001b[0;49;31m1/4\u001b[0;0m      |      \u001b[0;49;31m1/4\u001b[0;0m       |    \u001b[0;49;32m3/4\u001b[0;0m     |      X      |     \u001b[0;49;33m2/4\u001b[0;0m      |     \u001b[0;49;33m2/4\u001b[0;0m      |      \u001b[0;49;32m3/4\u001b[0;0m       |   \u001b[0;49;33m16/36\u001b[0;0m    |\n",
      "|  matt  |    \u001b[0;49;33m2/4\u001b[0;0m     |    \u001b[0;49;31m1/4\u001b[0;0m     |     \u001b[0;49;31m1/4\u001b[0;0m     |     \u001b[0;49;33m2/4\u001b[0;0m      |      \u001b[0;49;33m2/4\u001b[0;0m       |    \u001b[0;49;33m2/4\u001b[0;0m     |     \u001b[0;49;33m2/4\u001b[0;0m     |      X       |     \u001b[0;49;33m2/4\u001b[0;0m      |      \u001b[0;49;33m2/4\u001b[0;0m       |   \u001b[0;49;33m16/36\u001b[0;0m    |\n",
      "|  sean  |    \u001b[0;49;31m1/4\u001b[0;0m     |    \u001b[0;49;31m0/4\u001b[0;0m     |     \u001b[0;49;31m0/4\u001b[0;0m     |     \u001b[0;49;33m2/4\u001b[0;0m      |      \u001b[0;49;31m1/4\u001b[0;0m       |    \u001b[0;49;33m2/4\u001b[0;0m     |     \u001b[0;49;33m2/4\u001b[0;0m     |     \u001b[0;49;33m2/4\u001b[0;0m      |      X       |      \u001b[0;49;32m3/4\u001b[0;0m       |   \u001b[0;49;31m13/36\u001b[0;0m    |\n",
      "| morfin |    \u001b[0;49;31m0/4\u001b[0;0m     |    \u001b[0;49;31m1/4\u001b[0;0m     |     \u001b[0;49;31m1/4\u001b[0;0m     |     \u001b[0;49;31m0/4\u001b[0;0m      |      \u001b[0;49;33m2/4\u001b[0;0m       |    \u001b[0;49;31m0/4\u001b[0;0m     |     \u001b[0;49;31m1/4\u001b[0;0m     |     \u001b[0;49;33m2/4\u001b[0;0m      |     \u001b[0;49;31m1/4\u001b[0;0m      |       X        |    \u001b[0;49;31m8/36\u001b[0;0m    |\n",
      "+--------+------------+------------+-------------+--------------+----------------+------------+-------------+--------------+--------------+----------------+------------+\n",
      "+--------+-------------+------------------+\n",
      "|  2024  | Avg Z-Score | Avg Opp. Z-Score |\n",
      "+--------+-------------+------------------+\n",
      "|   vu   |     \u001b[0;49;34m0.69\u001b[0;0m    |      \u001b[0;0m-0.21\u001b[0;0m       |\n",
      "|   tj   |     \u001b[0;49;34m0.54\u001b[0;0m    |      \u001b[0;49;32m-0.42\u001b[0;0m       |\n",
      "|  zac   |     \u001b[0;0m0.14\u001b[0;0m    |      \u001b[0;0m-0.18\u001b[0;0m       |\n",
      "|  matt  |     \u001b[0;0m0.07\u001b[0;0m    |       \u001b[0;49;33m0.13\u001b[0;0m       |\n",
      "|  rafa  |    \u001b[0;49;33m-0.06\u001b[0;0m    |      \u001b[0;0m-0.08\u001b[0;0m       |\n",
      "|  ben   |     \u001b[0;49;33m-0.1\u001b[0;0m    |       \u001b[0;49;33m0.2\u001b[0;0m        |\n",
      "| katabe |    \u001b[0;49;33m-0.13\u001b[0;0m    |      \u001b[0;0m-0.13\u001b[0;0m       |\n",
      "|  sean  |    \u001b[0;49;33m-0.14\u001b[0;0m    |       \u001b[0;49;33m0.16\u001b[0;0m       |\n",
      "|   aj   |    \u001b[0;49;31m-0.41\u001b[0;0m    |       \u001b[0;49;33m0.06\u001b[0;0m       |\n",
      "| morfin |     \u001b[0;49;35m-0.6\u001b[0;0m    |       \u001b[0;49;31m0.47\u001b[0;0m       |\n",
      "+--------+-------------+------------------+\n"
     ]
    }
   ],
   "source": [
    "# Plot the performances for the season\n",
    "performance_charts.plot_head_to_heads(db)\n",
    "performance_charts.plot_manager_performances(db)"
   ]
  },
  {
   "cell_type": "code",
   "execution_count": 4,
   "metadata": {
    "jupyter": {
     "source_hidden": true
    }
   },
   "outputs": [
    {
     "name": "stdout",
     "output_type": "stream",
     "text": [
      "Best performing winners\n",
      "- Managers who won their GW with their best performance of the season\n",
      "+--------+----+----------+---------+--------+---------------+--------------+\n",
      "|  2024  | GW | GW Score | Z-Score |  Opp.  | Opp. GW Score | Opp. Z-Score |\n",
      "+--------+----+----------+---------+--------+---------------+--------------+\n",
      "|   aj   | 6  |  192.5   |   2.31  |  matt  |     135.0     |    -0.08     |\n",
      "|  ben   | 17 |  197.5   |   1.27  |  sean  |     158.5     |    -0.05     |\n",
      "| katabe | 27 |  206.0   |   2.22  |  ben   |     128.0     |    -0.54     |\n",
      "|  matt  | 32 |  244.5   |   1.86  |  ben   |     156.5     |    -0.07     |\n",
      "| morfin | 24 |  206.5   |   0.83  |   vu   |     187.0     |     0.39     |\n",
      "|  rafa  | 14 |  199.0   |   1.06  | katabe |     166.0     |     0.25     |\n",
      "|  sean  | 24 |  218.5   |   1.1   |  rafa  |      94.5     |    -1.68     |\n",
      "|   tj   | 24 |  248.5   |   1.77  |  ben   |     128.5     |    -0.92     |\n",
      "|   vu   | 33 |  254.5   |   2.49  | morfin |     160.0     |    -0.21     |\n",
      "|  zac   | 17 |  191.5   |   1.07  |  matt  |     180.0     |     0.68     |\n",
      "+--------+----+----------+---------+--------+---------------+--------------+\n",
      "\n",
      "Worst performing winners\n",
      "- Managers who won their GW with their worst performance of the season\n",
      "+--------+----+----------+---------+--------+---------------+--------------+\n",
      "|  2024  | GW | GW Score | Z-Score |  Opp.  | Opp. GW Score | Opp. Z-Score |\n",
      "+--------+----+----------+---------+--------+---------------+--------------+\n",
      "|   aj   | 13 |  104.0   |  -1.03  |  zac   |     102.0     |     -1.1     |\n",
      "|  ben   | 36 |  126.5   |  -0.48  | katabe |     100.0     |     -1.3     |\n",
      "| katabe | 3  |  121.0   |  -0.08  |   tj   |     111.5     |    -0.63     |\n",
      "|  matt  | 30 |  122.5   |  -0.36  |  rafa  |      78.0     |    -2.07     |\n",
      "| morfin | 31 |  107.0   |  -0.74  | katabe |      91.5     |    -1.28     |\n",
      "|  rafa  | 27 |  123.0   |  -0.72  | morfin |     116.0     |    -0.97     |\n",
      "|  sean  | 15 |  102.5   |  -0.72  |  rafa  |     100.0     |    -0.82     |\n",
      "|   tj   | 35 |  126.0   |   0.16  | morfin |     109.5     |    -0.78     |\n",
      "|   vu   | 35 |  125.0   |   0.11  | katabe |      85.5     |    -2.14     |\n",
      "|  zac   | 35 |  113.0   |  -0.58  |  matt  |     111.0     |    -0.69     |\n",
      "+--------+----+----------+---------+--------+---------------+--------------+\n"
     ]
    }
   ],
   "source": [
    "print(\"Best performing winners\")\n",
    "print(\"- Managers who won their GW with their best performance of the season\")\n",
    "performance_charts.plot_manager_performances_gw(db, True, True)\n",
    "\n",
    "print(\"\\nWorst performing winners\")\n",
    "print(\"- Managers who won their GW with their worst performance of the season\")\n",
    "performance_charts.plot_manager_performances_gw(db, False, True)"
   ]
  },
  {
   "cell_type": "code",
   "execution_count": 5,
   "metadata": {
    "jupyter": {
     "source_hidden": true
    }
   },
   "outputs": [
    {
     "name": "stdout",
     "output_type": "stream",
     "text": [
      "\n",
      "Best performing losers\n",
      "- Managers who lost their GW with their best performance of the season\n",
      "+--------+----+----------+---------+--------+---------------+--------------+\n",
      "|  2024  | GW | GW Score | Z-Score |  Opp.  | Opp. GW Score | Opp. Z-Score |\n",
      "+--------+----+----------+---------+--------+---------------+--------------+\n",
      "|   aj   | 2  |  153.5   |   0.06  | katabe |     189.5     |     1.03     |\n",
      "|  ben   | 32 |  156.5   |  -0.07  |  matt  |     244.5     |     1.86     |\n",
      "| katabe | 14 |  166.0   |   0.25  |  rafa  |     199.0     |     1.06     |\n",
      "|  matt  | 17 |  180.0   |   0.68  |  zac   |     191.5     |     1.07     |\n",
      "| morfin | 36 |  166.5   |   0.77  |  rafa  |     185.0     |     1.35     |\n",
      "|  rafa  | 21 |  160.0   |   0.25  |  matt  |     163.0     |     0.44     |\n",
      "|  sean  | 1  |  168.5   |   1.22  | morfin |     171.0     |     1.31     |\n",
      "|   tj   | 2  |  166.5   |   0.41  |  matt  |     170.5     |     0.52     |\n",
      "|   vu   | 24 |  187.0   |   0.39  | morfin |     206.5     |     0.83     |\n",
      "|  zac   | 7  |  153.0   |   0.17  |   vu   |     172.0     |     0.72     |\n",
      "+--------+----+----------+---------+--------+---------------+--------------+\n",
      "\n",
      "Worst performing losers\n",
      "- Managers who lost their GW with their worst performance of the season\n",
      "+--------+----+----------+---------+--------+---------------+--------------+\n",
      "|  2024  | GW | GW Score | Z-Score |  Opp.  | Opp. GW Score | Opp. Z-Score |\n",
      "+--------+----+----------+---------+--------+---------------+--------------+\n",
      "|   aj   | 32 |   73.0   |  -1.89  |   vu   |     208.5     |     1.07     |\n",
      "|  ben   | 2  |   66.5   |  -2.26  | morfin |     123.5     |    -0.74     |\n",
      "| katabe | 35 |   85.5   |  -2.14  |   vu   |     125.0     |     0.11     |\n",
      "|  matt  | 26 |   88.0   |  -1.75  |  zac   |     160.0     |     0.57     |\n",
      "| morfin | 15 |   68.5   |  -2.08  |   vu   |     150.5     |     1.2      |\n",
      "|  rafa  | 30 |   78.0   |  -2.07  |  matt  |     122.5     |    -0.36     |\n",
      "|  sean  | 16 |   89.5   |  -2.03  | katabe |     154.0     |     0.43     |\n",
      "|   tj   | 30 |  108.5   |   -0.9  | katabe |     157.0     |     0.96     |\n",
      "|   vu   | 13 |  111.5   |  -0.79  |  ben   |     165.5     |     0.93     |\n",
      "|  zac   | 1  |  101.5   |   -1.3  |  rafa  |     146.0     |     0.37     |\n",
      "+--------+----+----------+---------+--------+---------------+--------------+\n"
     ]
    }
   ],
   "source": [
    "print(\"\\nBest performing losers\")\n",
    "print(\"- Managers who lost their GW with their best performance of the season\")\n",
    "performance_charts.plot_manager_performances_gw(db, True, False)\n",
    "\n",
    "print(\"\\nWorst performing losers\")\n",
    "print(\"- Managers who lost their GW with their worst performance of the season\")\n",
    "performance_charts.plot_manager_performances_gw(db, False, False)"
   ]
  },
  {
   "cell_type": "code",
   "execution_count": null,
   "metadata": {},
   "outputs": [],
   "source": []
  }
 ],
 "metadata": {
  "kernelspec": {
   "display_name": "Python 3",
   "language": "python",
   "name": "python3"
  },
  "language_info": {
   "codemirror_mode": {
    "name": "ipython",
    "version": 3
   },
   "file_extension": ".py",
   "mimetype": "text/x-python",
   "name": "python",
   "nbconvert_exporter": "python",
   "pygments_lexer": "ipython3",
   "version": "3.9.0"
  }
 },
 "nbformat": 4,
 "nbformat_minor": 4
}
