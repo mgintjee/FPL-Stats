{
 "cells": [
  {
   "cell_type": "code",
   "execution_count": 1,
   "metadata": {},
   "outputs": [],
   "source": [
    "# Add the libraies path to python\n",
    "import sys\n",
    "import os\n",
    "sys.path.append(os.path.join(os.getcwd(), '..\\\\python\\\\database'))\n",
    "sys.path.append(os.path.join(os.getcwd(), '..\\\\python\\\\charts'))\n",
    "\n",
    "# Library imports\n",
    "import database\n",
    "import performance_charts"
   ]
  },
  {
   "cell_type": "code",
   "execution_count": 2,
   "metadata": {},
   "outputs": [],
   "source": [
    "# Constants to use in this notebook\n",
    "season = \"2025\"\n",
    "# Build the database for the season\n",
    "db = database.database(season)"
   ]
  },
  {
   "cell_type": "code",
   "execution_count": 3,
   "metadata": {},
   "outputs": [
    {
     "name": "stdout",
     "output_type": "stream",
     "text": [
      "+--------+--------------+----------------+----------------+------------+------------+--------------+-------------+------------+--------------+-------------+------------+\n",
      "|  2025  | Against matt | Against katabe | Against morfin | Against vu | Against tj | Against sean | Against ben | Against aj | Against rafa | Against zac | Total Wins |\n",
      "+--------+--------------+----------------+----------------+------------+------------+--------------+-------------+------------+--------------+-------------+------------+\n",
      "|  matt  |      X       |      \u001b[0;49;32m1/1\u001b[0;0m       |      \u001b[0;49;31m0/1\u001b[0;0m       |    \u001b[0;49;32m1/1\u001b[0;0m     |    \u001b[0;49;32m1/1\u001b[0;0m     |     \u001b[0;49;32m1/1\u001b[0;0m      |     \u001b[0;49;32m1/1\u001b[0;0m     |    \u001b[0;49;32m1/1\u001b[0;0m     |     \u001b[0;49;32m1/1\u001b[0;0m      |     \u001b[0;49;32m1/1\u001b[0;0m     |    \u001b[0;49;32m8/9\u001b[0;0m     |\n",
      "| katabe |     \u001b[0;49;31m0/1\u001b[0;0m      |       X        |      \u001b[0;49;31m0/1\u001b[0;0m       |    \u001b[0;49;32m1/1\u001b[0;0m     |    \u001b[0;49;32m1/1\u001b[0;0m     |     \u001b[0;49;31m0/1\u001b[0;0m      |     \u001b[0;49;32m1/1\u001b[0;0m     |    \u001b[0;49;32m1/1\u001b[0;0m     |     \u001b[0;49;32m1/1\u001b[0;0m      |     \u001b[0;49;32m1/1\u001b[0;0m     |    \u001b[0;49;32m6/9\u001b[0;0m     |\n",
      "| morfin |     \u001b[0;49;32m1/1\u001b[0;0m      |      \u001b[0;49;32m1/1\u001b[0;0m       |       X        |    \u001b[0;49;32m1/1\u001b[0;0m     |    \u001b[0;49;31m0/1\u001b[0;0m     |     \u001b[0;49;31m0/1\u001b[0;0m      |     \u001b[0;49;31m0/1\u001b[0;0m     |    \u001b[0;49;31m0/1\u001b[0;0m     |     \u001b[0;49;32m1/1\u001b[0;0m      |     \u001b[0;49;32m1/1\u001b[0;0m     |    \u001b[0;49;33m5/9\u001b[0;0m     |\n",
      "|   vu   |     \u001b[0;49;31m0/1\u001b[0;0m      |      \u001b[0;49;31m0/1\u001b[0;0m       |      \u001b[0;49;31m0/1\u001b[0;0m       |     X      |    \u001b[0;49;32m1/1\u001b[0;0m     |     \u001b[0;49;32m1/1\u001b[0;0m      |     \u001b[0;49;32m1/1\u001b[0;0m     |    \u001b[0;49;31m0/1\u001b[0;0m     |     \u001b[0;49;32m1/1\u001b[0;0m      |     \u001b[0;49;32m1/1\u001b[0;0m     |    \u001b[0;49;33m5/9\u001b[0;0m     |\n",
      "|   tj   |     \u001b[0;49;31m0/1\u001b[0;0m      |      \u001b[0;49;31m0/1\u001b[0;0m       |      \u001b[0;49;32m1/1\u001b[0;0m       |    \u001b[0;49;31m0/1\u001b[0;0m     |     X      |     \u001b[0;49;32m1/1\u001b[0;0m      |     \u001b[0;49;31m0/1\u001b[0;0m     |    \u001b[0;49;32m1/1\u001b[0;0m     |     \u001b[0;49;32m1/1\u001b[0;0m      |     \u001b[0;49;32m1/1\u001b[0;0m     |    \u001b[0;49;33m5/9\u001b[0;0m     |\n",
      "|  sean  |     \u001b[0;49;31m0/1\u001b[0;0m      |      \u001b[0;49;32m1/1\u001b[0;0m       |      \u001b[0;49;32m1/1\u001b[0;0m       |    \u001b[0;49;31m0/1\u001b[0;0m     |    \u001b[0;49;31m0/1\u001b[0;0m     |      X       |     \u001b[0;49;31m0/1\u001b[0;0m     |    \u001b[0;49;32m1/1\u001b[0;0m     |     \u001b[0;49;31m0/1\u001b[0;0m      |     \u001b[0;49;32m1/1\u001b[0;0m     |    \u001b[0;49;33m4/9\u001b[0;0m     |\n",
      "|  ben   |     \u001b[0;49;31m0/1\u001b[0;0m      |      \u001b[0;49;31m0/1\u001b[0;0m       |      \u001b[0;49;32m1/1\u001b[0;0m       |    \u001b[0;49;31m0/1\u001b[0;0m     |    \u001b[0;49;32m1/1\u001b[0;0m     |     \u001b[0;49;32m1/1\u001b[0;0m      |      X      |    \u001b[0;49;31m0/1\u001b[0;0m     |     \u001b[0;49;32m1/1\u001b[0;0m      |     \u001b[0;49;31m0/1\u001b[0;0m     |    \u001b[0;49;33m4/9\u001b[0;0m     |\n",
      "|   aj   |     \u001b[0;49;31m0/1\u001b[0;0m      |      \u001b[0;49;31m0/1\u001b[0;0m       |      \u001b[0;49;32m1/1\u001b[0;0m       |    \u001b[0;49;32m1/1\u001b[0;0m     |    \u001b[0;49;31m0/1\u001b[0;0m     |     \u001b[0;49;31m0/1\u001b[0;0m      |     \u001b[0;49;32m1/1\u001b[0;0m     |     X      |     \u001b[0;49;31m0/1\u001b[0;0m      |     \u001b[0;49;32m1/1\u001b[0;0m     |    \u001b[0;49;33m4/9\u001b[0;0m     |\n",
      "|  rafa  |     \u001b[0;49;31m0/1\u001b[0;0m      |      \u001b[0;49;31m0/1\u001b[0;0m       |      \u001b[0;49;31m0/1\u001b[0;0m       |    \u001b[0;49;31m0/1\u001b[0;0m     |    \u001b[0;49;31m0/1\u001b[0;0m     |     \u001b[0;49;32m1/1\u001b[0;0m      |     \u001b[0;49;31m0/1\u001b[0;0m     |    \u001b[0;49;31m0/1\u001b[0;0m     |      X       |     \u001b[0;49;32m1/1\u001b[0;0m     |    \u001b[0;49;31m2/9\u001b[0;0m     |\n",
      "|  zac   |     \u001b[0;49;31m0/1\u001b[0;0m      |      \u001b[0;49;31m0/1\u001b[0;0m       |      \u001b[0;49;31m0/1\u001b[0;0m       |    \u001b[0;49;31m0/1\u001b[0;0m     |    \u001b[0;49;31m0/1\u001b[0;0m     |     \u001b[0;49;31m0/1\u001b[0;0m      |     \u001b[0;49;32m1/1\u001b[0;0m     |    \u001b[0;49;31m0/1\u001b[0;0m     |     \u001b[0;49;31m0/1\u001b[0;0m      |      X      |    \u001b[0;49;31m1/9\u001b[0;0m     |\n",
      "+--------+--------------+----------------+----------------+------------+------------+--------------+-------------+------------+--------------+-------------+------------+\n",
      "+--------+-------------+------------------+\n",
      "|  2025  | Avg Z-Score | Avg Opp. Z-Score |\n",
      "+--------+-------------+------------------+\n",
      "|   tj   |     \u001b[0;49;34m0.63\u001b[0;0m    |      \u001b[0;0m-0.01\u001b[0;0m       |\n",
      "|  matt  |     \u001b[0;49;34m0.6\u001b[0;0m     |      \u001b[0;49;32m-0.39\u001b[0;0m       |\n",
      "|  ben   |     \u001b[0;49;32m0.29\u001b[0;0m    |       \u001b[0;49;31m0.31\u001b[0;0m       |\n",
      "| katabe |     \u001b[0;0m0.22\u001b[0;0m    |       \u001b[0;49;33m0.04\u001b[0;0m       |\n",
      "| morfin |     \u001b[0;0m0.14\u001b[0;0m    |       \u001b[0;49;33m0.2\u001b[0;0m        |\n",
      "|   vu   |     \u001b[0;0m0.11\u001b[0;0m    |      \u001b[0;49;32m-0.34\u001b[0;0m       |\n",
      "|  sean  |    \u001b[0;49;33m-0.15\u001b[0;0m    |      \u001b[0;0m-0.12\u001b[0;0m       |\n",
      "|   aj   |    \u001b[0;49;33m-0.25\u001b[0;0m    |      \u001b[0;0m-0.24\u001b[0;0m       |\n",
      "|  zac   |    \u001b[0;49;35m-0.67\u001b[0;0m    |       \u001b[0;49;35m0.62\u001b[0;0m       |\n",
      "|  rafa  |    \u001b[0;49;35m-0.91\u001b[0;0m    |      \u001b[0;0m-0.05\u001b[0;0m       |\n",
      "+--------+-------------+------------------+\n"
     ]
    }
   ],
   "source": [
    "# Plot the performances for the season\n",
    "performance_charts.plot_head_to_heads(db)\n",
    "performance_charts.plot_manager_performances(db)"
   ]
  },
  {
   "cell_type": "code",
   "execution_count": 4,
   "metadata": {
    "jupyter": {
     "source_hidden": true
    }
   },
   "outputs": [
    {
     "name": "stdout",
     "output_type": "stream",
     "text": [
      "Best performing winners\n",
      "- Managers who won their GW with their best performance of the season\n",
      "+--------+----+----------+---------+--------+---------------+--------------+\n",
      "|  2025  | GW | GW Score | Z-Score |  Opp.  | Opp. GW Score | Opp. Z-Score |\n",
      "+--------+----+----------+---------+--------+---------------+--------------+\n",
      "|   aj   | 7  |  154.0   |   0.54  |  ben   |     130.5     |    -0.23     |\n",
      "|  ben   | 1  |  193.0   |   1.69  |  sean  |     169.5     |     0.92     |\n",
      "| katabe | 8  |  199.0   |   1.52  |   tj   |     190.5     |     1.27     |\n",
      "|  matt  | 8  |  185.0   |   1.11  |   vu   |     162.0     |     0.43     |\n",
      "| morfin | 6  |  162.5   |   1.64  |   vu   |     148.0     |     0.98     |\n",
      "|  rafa  | 9  |  137.0   |   0.01  |  sean  |     132.0     |     -0.3     |\n",
      "|  sean  | 5  |  151.5   |   1.62  | morfin |     119.0     |    -0.21     |\n",
      "|   tj   | 2  |  197.5   |   2.43  |  rafa  |     107.5     |    -0.88     |\n",
      "|   vu   | 4  |  170.0   |   1.31  |  zac   |      98.5     |    -2.03     |\n",
      "|  zac   | 9  |  157.0   |   1.23  |  ben   |     146.0     |     0.56     |\n",
      "+--------+----+----------+---------+--------+---------------+--------------+\n",
      "\n",
      "Worst performing winners\n",
      "- Managers who won their GW with their worst performance of the season\n",
      "+--------+----+----------+---------+------+---------------+--------------+\n",
      "|  2025  | GW | GW Score | Z-Score | Opp. | Opp. GW Score | Opp. Z-Score |\n",
      "+--------+----+----------+---------+------+---------------+--------------+\n",
      "|   aj   | 9  |  132.0   |   -0.3  |  vu  |     115.5     |     -1.3     |\n",
      "|  ben   | 3  |  142.0   |   1.13  |  tj  |     132.0     |     0.59     |\n",
      "| katabe | 5  |  122.0   |  -0.04  | ben  |     119.5     |    -0.18     |\n",
      "|  matt  | 6  |  111.5   |  -0.68  | ben  |     101.0     |    -1.15     |\n",
      "| morfin | 3  |  117.5   |   -0.2  | rafa |      92.0     |    -1.58     |\n",
      "|  rafa  | 7  |  134.5   |   -0.1  | zac  |      74.0     |    -2.08     |\n",
      "|  sean  | 8  |  110.0   |  -1.12  |  aj  |     101.0     |    -1.38     |\n",
      "|   tj   | 1  |  136.5   |  -0.16  |  aj  |     116.5     |    -0.81     |\n",
      "|   vu   | 5  |  106.0   |  -0.94  |  tj  |     103.0     |     -1.1     |\n",
      "|  zac   | 9  |  157.0   |   1.23  | ben  |     146.0     |     0.56     |\n",
      "+--------+----+----------+---------+------+---------------+--------------+\n"
     ]
    }
   ],
   "source": [
    "print(\"Best performing winners\")\n",
    "print(\"- Managers who won their GW with their best performance of the season\")\n",
    "performance_charts.plot_manager_performances_gw(db, True, True)\n",
    "\n",
    "print(\"\\nWorst performing winners\")\n",
    "print(\"- Managers who won their GW with their worst performance of the season\")\n",
    "performance_charts.plot_manager_performances_gw(db, False, True)"
   ]
  },
  {
   "cell_type": "code",
   "execution_count": 5,
   "metadata": {
    "jupyter": {
     "source_hidden": true
    }
   },
   "outputs": [
    {
     "name": "stdout",
     "output_type": "stream",
     "text": [
      "\n",
      "Best performing losers\n",
      "- Managers who lost their GW with their best performance of the season\n",
      "+--------+----+----------+---------+--------+---------------+--------------+\n",
      "|  2025  | GW | GW Score | Z-Score |  Opp.  | Opp. GW Score | Opp. Z-Score |\n",
      "+--------+----+----------+---------+--------+---------------+--------------+\n",
      "|   aj   | 4  |  136.5   |  -0.25  |  matt  |     154.0     |     0.56     |\n",
      "|  ben   | 9  |  146.0   |   0.56  |  zac   |     157.0     |     1.23     |\n",
      "| katabe | 2  |  130.5   |  -0.04  |  matt  |     141.0     |     0.35     |\n",
      "|  matt  | 1  |  142.5   |   0.04  | morfin |     155.0     |     0.45     |\n",
      "| morfin | 4  |  147.5   |   0.26  |  ben   |     171.0     |     1.36     |\n",
      "|  rafa  | 8  |  122.5   |  -0.75  |  ben   |     155.0     |     0.22     |\n",
      "|  sean  | 1  |  169.5   |   0.92  |  ben   |     193.0     |     1.69     |\n",
      "|   tj   | 8  |  190.5   |   1.27  | katabe |     199.0     |     1.52     |\n",
      "|   vu   | 8  |  162.0   |   0.43  |  matt  |     185.0     |     1.11     |\n",
      "|  zac   | 6  |  136.5   |   0.46  |   tj   |     149.5     |     1.05     |\n",
      "+--------+----+----------+---------+--------+---------------+--------------+\n",
      "\n",
      "Worst performing losers\n",
      "- Managers who lost their GW with their worst performance of the season\n",
      "+--------+----+----------+---------+--------+---------------+--------------+\n",
      "|  2025  | GW | GW Score | Z-Score |  Opp.  | Opp. GW Score | Opp. Z-Score |\n",
      "+--------+----+----------+---------+--------+---------------+--------------+\n",
      "|   aj   | 8  |  101.0   |  -1.38  |  sean  |     110.0     |    -1.12     |\n",
      "|  ben   | 6  |  101.0   |  -1.15  |  matt  |     111.5     |    -0.68     |\n",
      "| katabe | 6  |  102.0   |  -1.11  |  sean  |     140.5     |     0.64     |\n",
      "|  matt  | 1  |  142.5   |   0.04  | morfin |     155.0     |     0.45     |\n",
      "| morfin | 7  |  104.5   |  -1.08  |   tj   |     188.5     |     1.67     |\n",
      "|  rafa  | 3  |   92.0   |  -1.58  | morfin |     117.5     |     -0.2     |\n",
      "|  sean  | 3  |   97.5   |  -1.29  |   vu   |     126.0     |     0.26     |\n",
      "|   tj   | 5  |  103.0   |   -1.1  |   vu   |     106.0     |    -0.94     |\n",
      "|   vu   | 9  |  115.5   |   -1.3  |   aj   |     132.0     |     -0.3     |\n",
      "|  zac   | 7  |   74.0   |  -2.08  |  rafa  |     134.5     |     -0.1     |\n",
      "+--------+----+----------+---------+--------+---------------+--------------+\n"
     ]
    }
   ],
   "source": [
    "print(\"\\nBest performing losers\")\n",
    "print(\"- Managers who lost their GW with their best performance of the season\")\n",
    "performance_charts.plot_manager_performances_gw(db, True, False)\n",
    "\n",
    "print(\"\\nWorst performing losers\")\n",
    "print(\"- Managers who lost their GW with their worst performance of the season\")\n",
    "performance_charts.plot_manager_performances_gw(db, False, False)"
   ]
  },
  {
   "cell_type": "code",
   "execution_count": null,
   "metadata": {},
   "outputs": [],
   "source": []
  }
 ],
 "metadata": {
  "kernelspec": {
   "display_name": "Python 3",
   "language": "python",
   "name": "python3"
  },
  "language_info": {
   "codemirror_mode": {
    "name": "ipython",
    "version": 3
   },
   "file_extension": ".py",
   "mimetype": "text/x-python",
   "name": "python",
   "nbconvert_exporter": "python",
   "pygments_lexer": "ipython3",
   "version": "3.9.0"
  }
 },
 "nbformat": 4,
 "nbformat_minor": 4
}
